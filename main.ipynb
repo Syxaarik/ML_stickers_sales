{
 "cells": [
  {
   "cell_type": "code",
   "execution_count": 40,
   "id": "a87c93d0bb8bcb5",
   "metadata": {
    "ExecuteTime": {
     "start_time": "2025-09-29T15:12:41.652140Z"
    },
    "jupyter": {
     "is_executing": true
    }
   },
   "outputs": [],
   "source": [
    "import pandas as pd\n",
    "import numpy as np\n",
    "import holidays\n",
    "\n",
    "from sklearn.model_selection import train_test_split\n",
    "from sklearn.linear_model import LinearRegression\n",
    "from sklearn.linear_model import Ridge\n",
    "from sklearn.metrics import mean_squared_error\n",
    "from sklearn.metrics import r2_score\n",
    "from sklearn.ensemble import GradientBoostingRegressor\n",
    "from sklearn.model_selection import cross_validate"
   ]
  },
  {
   "cell_type": "code",
   "execution_count": 41,
   "id": "a45cff398313f112",
   "metadata": {
    "ExecuteTime": {
     "end_time": "2025-09-28T15:14:02.659622Z",
     "start_time": "2025-09-28T15:14:02.418461Z"
    }
   },
   "outputs": [],
   "source": [
    "test = pd.read_csv(\"data/test.csv\")\n",
    "train = pd.read_csv(\"data/train.csv\")"
   ]
  },
  {
   "cell_type": "code",
   "execution_count": 62,
   "id": "ec6ff2fb609336b8",
   "metadata": {
    "ExecuteTime": {
     "end_time": "2025-09-28T15:14:11.213771Z",
     "start_time": "2025-09-28T15:14:11.193479Z"
    }
   },
   "outputs": [],
   "source": [
    "train = train.dropna(subset=['num_sold'])"
   ]
  },
  {
   "cell_type": "code",
   "execution_count": 63,
   "id": "f589783c21c229b8",
   "metadata": {
    "ExecuteTime": {
     "end_time": "2025-09-28T15:14:12.158028Z",
     "start_time": "2025-09-28T15:14:12.149957Z"
    }
   },
   "outputs": [],
   "source": [
    "# 1. Разделение признаков и таргета\n",
    "\n",
    "X = train.drop(columns=['id', 'num_sold'])\n",
    "y = train['num_sold']"
   ]
  },
  {
   "cell_type": "code",
   "execution_count": 64,
   "id": "49f7a7c9e3f185de",
   "metadata": {
    "ExecuteTime": {
     "end_time": "2025-09-28T15:14:13.033564Z",
     "start_time": "2025-09-28T15:14:13.016992Z"
    }
   },
   "outputs": [],
   "source": [
    "# 2. Обработка даты\n",
    "\n",
    "X['date'] = pd.to_datetime(X['date'])\n",
    "X['year'] = X['date'].dt.year\n",
    "X['month'] = X['date'].dt.month\n",
    "X['day'] = X['date'].dt.day\n",
    "X['dayofweek'] = X['date'].dt.dayofweek\n",
    "X = X.drop(columns=['date'])"
   ]
  },
  {
   "cell_type": "code",
   "execution_count": 65,
   "id": "1ec8e709-f7c9-4201-aa00-5288c634cf71",
   "metadata": {},
   "outputs": [],
   "source": [
    "# 3. Кодирование категориальных признаков (country, store, product)\n",
    "\n",
    "X = pd.get_dummies(X, drop_first=True, dtype=int)\n",
    "test['date'] = pd.to_datetime(test['date'])\n",
    "test['year'] = test['date'].dt.year\n",
    "test['month'] = test['date'].dt.month\n",
    "test['day'] = test['date'].dt.day\n",
    "test['dayofweek'] = test['date'].dt.dayofweek\n",
    "test = test.drop(columns=['id', 'date'])\n",
    "test = pd.get_dummies(test, drop_first=True, dtype=int)"
   ]
  },
  {
   "cell_type": "code",
   "execution_count": 66,
   "id": "460abce7-9ec0-4d92-b893-d8cf7e1c319a",
   "metadata": {},
   "outputs": [],
   "source": [
    "# Выровняем train/test по колонкам\n",
    "X, test = X.align(test, join=\"left\", axis=1, fill_value=0)"
   ]
  },
  {
   "cell_type": "code",
   "execution_count": 67,
   "id": "e6ab8d44-a991-423d-9561-bea9ba5f96ef",
   "metadata": {},
   "outputs": [],
   "source": [
    "# 4. Train / Test split\n",
    "# ---------------------------\n",
    "X_train, X_test, y_train, y_test = train_test_split(X, y, test_size=0.2, random_state=42)"
   ]
  },
  {
   "cell_type": "code",
   "execution_count": 68,
   "id": "6b02676eab9743dd",
   "metadata": {
    "ExecuteTime": {
     "end_time": "2025-09-28T15:07:39.390952Z",
     "start_time": "2025-09-28T15:07:38.988515Z"
    }
   },
   "outputs": [
    {
     "name": "stdout",
     "output_type": "stream",
     "text": [
      "Linear Regression RMSE: 312.074527088727\n",
      "Linear Regression R2: 0.796235961004736\n"
     ]
    }
   ],
   "source": [
    "# 5. Модели\n",
    "\n",
    "# Линейная регрессия\n",
    "lr = LinearRegression()\n",
    "lr.fit(X_train, y_train)\n",
    "y_pred_lr = lr.predict(X_test)\n",
    "\n",
    "print(\"Linear Regression RMSE:\", np.sqrt(mean_squared_error(y_test, y_pred_lr)))\n",
    "print(\"Linear Regression R2:\", r2_score(y_test, y_pred_lr))"
   ]
  },
  {
   "cell_type": "markdown",
   "id": "65a7a91f-1f64-404b-8610-c5dd3e41a22f",
   "metadata": {},
   "source": [
    "## Использую бустинг"
   ]
  },
  {
   "cell_type": "code",
   "execution_count": 72,
   "id": "ebea2e2c-119d-4c3f-a6b1-5776fa2a8bbe",
   "metadata": {},
   "outputs": [
    {
     "name": "stdout",
     "output_type": "stream",
     "text": [
      "Ridge RMSE: 312.07456147507696\n",
      "Ridge R2: 0.7962359161007062\n"
     ]
    }
   ],
   "source": [
    "# Ridge\n",
    "ridge = Ridge(alpha=1.0)\n",
    "ridge.fit(X_train, y_train)\n",
    "y_pred_ridge = ridge.predict(X_test)\n",
    "\n",
    "print(\"Ridge RMSE:\", np.sqrt(mean_squared_error(y_test, y_pred_ridge)))\n",
    "print(\"Ridge R2:\", r2_score(y_test, y_pred_ridge))"
   ]
  },
  {
   "cell_type": "code",
   "execution_count": 74,
   "id": "8552a0df-a631-42b6-ba18-7fac03aa960c",
   "metadata": {},
   "outputs": [
    {
     "name": "stdout",
     "output_type": "stream",
     "text": [
      "GBR RMSE: 167.17151632329544\n",
      "GBR R2: 0.941529681178229\n"
     ]
    }
   ],
   "source": [
    "# Gradient Boosting\n",
    "gb = GradientBoostingRegressor(random_state=42)\n",
    "gb.fit(X_train, y_train)\n",
    "y_pred_gb = gb.predict(X_test)\n",
    "\n",
    "print(\"GBR RMSE:\", np.sqrt(mean_squared_error(y_test, y_pred_gb)))\n",
    "print(\"GBR R2:\", r2_score(y_test, y_pred_gb))"
   ]
  },
  {
   "cell_type": "markdown",
   "id": "da47a609-d8b4-4e16-b5ae-ff76e26df92f",
   "metadata": {},
   "source": [
    "## Добовления submission.scv"
   ]
  },
  {
   "cell_type": "code",
   "execution_count": 78,
   "id": "ed8cede7-9964-4ced-96ec-442551d5046f",
   "metadata": {},
   "outputs": [
    {
     "name": "stdout",
     "output_type": "stream",
     "text": [
      "submission.csv сохранён!\n"
     ]
    }
   ],
   "source": [
    "# Финальная модель (например Gradient Boosting)\n",
    "final_model = GradientBoostingRegressor(random_state=42)\n",
    "final_model.fit(X, y)\n",
    "\n",
    "# Предсказания на тесте\n",
    "test_pred = final_model.predict(test)\n",
    "\n",
    "# Загружаем оригинальный test.csv, чтобы взять id\n",
    "test_original = pd.read_csv(\"data/test.csv\")\n",
    "\n",
    "# Формируем submission\n",
    "submission = pd.DataFrame({\n",
    "    \"id\": test_original[\"id\"],\n",
    "    \"num_sold\": test_pred\n",
    "})\n",
    "\n",
    "# Сохраняем\n",
    "submission.to_csv(\"submission.csv\", index=False)\n",
    "\n",
    "print(\"submission.csv сохранён!\")\n"
   ]
  },
  {
   "cell_type": "code",
   "execution_count": null,
   "id": "57022bf6-1b3f-4a7a-a210-71f3eb48f55e",
   "metadata": {},
   "outputs": [],
   "source": []
  }
 ],
 "metadata": {
  "kernelspec": {
   "display_name": "Python 3 (ipykernel)",
   "language": "python",
   "name": "python3"
  },
  "language_info": {
   "codemirror_mode": {
    "name": "ipython",
    "version": 3
   },
   "file_extension": ".py",
   "mimetype": "text/x-python",
   "name": "python",
   "nbconvert_exporter": "python",
   "pygments_lexer": "ipython3",
   "version": "3.13.7"
  }
 },
 "nbformat": 4,
 "nbformat_minor": 5
}
